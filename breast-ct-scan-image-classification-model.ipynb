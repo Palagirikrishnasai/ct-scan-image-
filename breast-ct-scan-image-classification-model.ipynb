{
 "cells": [
  {
   "cell_type": "code",
   "execution_count": 1,
   "id": "a9235a23",
   "metadata": {
    "_cell_guid": "b1076dfc-b9ad-4769-8c92-a6c4dae69d19",
    "_uuid": "8f2839f25d086af736a60e9eeb907d3b93b6e0e5",
    "execution": {
     "iopub.execute_input": "2022-03-03T10:50:04.389542Z",
     "iopub.status.busy": "2022-03-03T10:50:04.387948Z",
     "iopub.status.idle": "2022-03-03T10:50:09.276232Z",
     "shell.execute_reply": "2022-03-03T10:50:09.275557Z",
     "shell.execute_reply.started": "2021-11-27T08:50:08.651518Z"
    },
    "papermill": {
     "duration": 4.901422,
     "end_time": "2022-03-03T10:50:09.276416",
     "exception": false,
     "start_time": "2022-03-03T10:50:04.374994",
     "status": "completed"
    },
    "tags": []
   },
   "outputs": [],
   "source": [
    "# This Python 3 environment comes with many helpful analytics libraries installed\n",
    "# It is defined by the kaggle/python Docker image: https://github.com/kaggle/docker-python\n",
    "# For example, here's several helpful packages to load\n",
    "\n",
    "import numpy as np # linear algebra\n",
    "import pandas as pd # data processing, CSV file I/O (e.g. pd.read_csv)\n",
    "\n",
    "# Input data files are available in the read-only \"../input/\" directory\n",
    "# For example, running this (by clicking run or pressing Shift+Enter) will list all files under the input directory\n",
    "\n",
    "import os\n",
    "from tensorflow.keras.layers import InputLayer, BatchNormalization, Dropout, Flatten, Dense, Activation, MaxPool2D, Conv2D\n",
    "from tensorflow.keras.applications.resnet50 import ResNet50\n",
    "import tensorflow as tf\n",
    "from tensorflow.keras.preprocessing.image import ImageDataGenerator\n",
    "from tensorflow.keras.models import Sequential\n",
    "from tensorflow.keras import optimizers\n",
    "from tensorflow.keras import Model\n",
    "\n",
    "\n",
    "\n",
    "# You can write up to 20GB to the current directory (/kaggle/working/) that gets preserved as output when you create a version using \"Save & Run All\" \n",
    "# You can also write temporary files to /kaggle/temp/, but they won't be saved outside of the current session"
   ]
  },
  {
   "cell_type": "code",
   "execution_count": 2,
   "id": "d7ac6897",
   "metadata": {
    "execution": {
     "iopub.execute_input": "2022-03-03T10:50:09.299306Z",
     "iopub.status.busy": "2022-03-03T10:50:09.298567Z",
     "iopub.status.idle": "2022-03-03T10:50:09.301146Z",
     "shell.execute_reply": "2022-03-03T10:50:09.300681Z",
     "shell.execute_reply.started": "2021-11-27T08:50:14.590765Z"
    },
    "papermill": {
     "duration": 0.015868,
     "end_time": "2022-03-03T10:50:09.301256",
     "exception": false,
     "start_time": "2022-03-03T10:50:09.285388",
     "status": "completed"
    },
    "tags": []
   },
   "outputs": [],
   "source": [
    "train_datagen = ImageDataGenerator(rescale = 1./255,\n",
    "                                   validation_split = 0.2,\n",
    "                                  \n",
    "        rotation_range=5,\n",
    "        width_shift_range=0.2,\n",
    "        height_shift_range=0.2,\n",
    "        shear_range=0.2,\n",
    "        #zoom_range=0.2,\n",
    "        horizontal_flip=True,\n",
    "        vertical_flip=True,\n",
    "        fill_mode='nearest')\n",
    "\n",
    "valid_datagen = ImageDataGenerator(rescale = 1./255,\n",
    "                                  validation_split = 0.2)\n",
    "\n",
    "test_datagen  = ImageDataGenerator(rescale = 1./255\n",
    "                                  )"
   ]
  },
  {
   "cell_type": "code",
   "execution_count": 3,
   "id": "2f4d6808",
   "metadata": {
    "execution": {
     "iopub.execute_input": "2022-03-03T10:50:09.323813Z",
     "iopub.status.busy": "2022-03-03T10:50:09.323090Z",
     "iopub.status.idle": "2022-03-03T10:50:16.903384Z",
     "shell.execute_reply": "2022-03-03T10:50:16.904561Z",
     "shell.execute_reply.started": "2021-11-27T08:50:14.605066Z"
    },
    "papermill": {
     "duration": 7.5955,
     "end_time": "2022-03-03T10:50:16.904786",
     "exception": false,
     "start_time": "2022-03-03T10:50:09.309286",
     "status": "completed"
    },
    "tags": []
   },
   "outputs": [
    {
     "name": "stdout",
     "output_type": "stream",
     "text": [
      "Found 613 images belonging to 4 classes.\n",
      "Found 72 images belonging to 4 classes.\n",
      "Found 315 images belonging to 4 classes.\n"
     ]
    },
    {
     "name": "stderr",
     "output_type": "stream",
     "text": [
      "2022-03-03 10:50:09.841028: I tensorflow/stream_executor/cuda/cuda_gpu_executor.cc:937] successful NUMA node read from SysFS had negative value (-1), but there must be at least one NUMA node, so returning NUMA node zero\n",
      "2022-03-03 10:50:09.948010: I tensorflow/stream_executor/cuda/cuda_gpu_executor.cc:937] successful NUMA node read from SysFS had negative value (-1), but there must be at least one NUMA node, so returning NUMA node zero\n",
      "2022-03-03 10:50:09.948738: I tensorflow/stream_executor/cuda/cuda_gpu_executor.cc:937] successful NUMA node read from SysFS had negative value (-1), but there must be at least one NUMA node, so returning NUMA node zero\n",
      "2022-03-03 10:50:09.950261: I tensorflow/core/platform/cpu_feature_guard.cc:142] This TensorFlow binary is optimized with oneAPI Deep Neural Network Library (oneDNN) to use the following CPU instructions in performance-critical operations:  AVX2 AVX512F FMA\n",
      "To enable them in other operations, rebuild TensorFlow with the appropriate compiler flags.\n",
      "2022-03-03 10:50:09.951158: I tensorflow/stream_executor/cuda/cuda_gpu_executor.cc:937] successful NUMA node read from SysFS had negative value (-1), but there must be at least one NUMA node, so returning NUMA node zero\n",
      "2022-03-03 10:50:09.951896: I tensorflow/stream_executor/cuda/cuda_gpu_executor.cc:937] successful NUMA node read from SysFS had negative value (-1), but there must be at least one NUMA node, so returning NUMA node zero\n",
      "2022-03-03 10:50:09.952501: I tensorflow/stream_executor/cuda/cuda_gpu_executor.cc:937] successful NUMA node read from SysFS had negative value (-1), but there must be at least one NUMA node, so returning NUMA node zero\n",
      "2022-03-03 10:50:11.794853: I tensorflow/stream_executor/cuda/cuda_gpu_executor.cc:937] successful NUMA node read from SysFS had negative value (-1), but there must be at least one NUMA node, so returning NUMA node zero\n",
      "2022-03-03 10:50:11.795659: I tensorflow/stream_executor/cuda/cuda_gpu_executor.cc:937] successful NUMA node read from SysFS had negative value (-1), but there must be at least one NUMA node, so returning NUMA node zero\n",
      "2022-03-03 10:50:11.796299: I tensorflow/stream_executor/cuda/cuda_gpu_executor.cc:937] successful NUMA node read from SysFS had negative value (-1), but there must be at least one NUMA node, so returning NUMA node zero\n",
      "2022-03-03 10:50:11.796889: I tensorflow/core/common_runtime/gpu/gpu_device.cc:1510] Created device /job:localhost/replica:0/task:0/device:GPU:0 with 15403 MB memory:  -> device: 0, name: Tesla P100-PCIE-16GB, pci bus id: 0000:00:04.0, compute capability: 6.0\n"
     ]
    },
    {
     "name": "stdout",
     "output_type": "stream",
     "text": [
      "Downloading data from https://storage.googleapis.com/tensorflow/keras-applications/resnet/resnet101v2_weights_tf_dim_ordering_tf_kernels_notop.h5\n",
      "171319296/171317808 [==============================] - 2s 0us/step\n",
      "171327488/171317808 [==============================] - 2s 0us/step\n"
     ]
    }
   ],
   "source": [
    "train_dataset  = train_datagen.flow_from_directory(directory = '../input/chest-ctscan-images/Data/train',\n",
    "                                                   target_size = (224,224),\n",
    "                                                   class_mode = 'categorical',\n",
    "                                                   batch_size = 64)\n",
    "\n",
    "valid_dataset = valid_datagen.flow_from_directory(directory = '../input/chest-ctscan-images/Data/valid',\n",
    "                                                  target_size = (224,224),\n",
    "                                                  class_mode = 'categorical',\n",
    "                                                  batch_size = 64)\n",
    "\n",
    "test_dataset = test_datagen.flow_from_directory(directory = '../input/chest-ctscan-images/Data/test',\n",
    "                                                  target_size = (224,224),\n",
    "                                                  class_mode = 'categorical',\n",
    "                                                  batch_size = 64)\n",
    "base_model_2 = tf.keras.applications.ResNet101V2(input_shape=(224,224,3),include_top=False,weights=\"imagenet\")\n",
    "# Freezing Layers\n",
    "for layer in base_model_2.layers:\n",
    "    layer.trainable = False"
   ]
  },
  {
   "cell_type": "code",
   "execution_count": 4,
   "id": "4fe97582",
   "metadata": {
    "execution": {
     "iopub.execute_input": "2022-03-03T10:50:16.966684Z",
     "iopub.status.busy": "2022-03-03T10:50:16.965827Z",
     "iopub.status.idle": "2022-03-03T10:50:17.020455Z",
     "shell.execute_reply": "2022-03-03T10:50:17.021571Z",
     "shell.execute_reply.started": "2021-11-27T08:50:22.928694Z"
    },
    "papermill": {
     "duration": 0.092713,
     "end_time": "2022-03-03T10:50:17.021775",
     "exception": false,
     "start_time": "2022-03-03T10:50:16.929062",
     "status": "completed"
    },
    "tags": []
   },
   "outputs": [],
   "source": [
    "\n",
    "x = base_model_2.output\n",
    "x = tf.keras.layers.Flatten()(x)\n",
    "x = tf.keras.layers.Dense(1024, activation = 'relu')(x)\n",
    "x = tf.keras.layers.Dropout(0.2)(x)\n",
    "x = tf.keras.layers.Dense(4, activation = \"softmax\")(x)\n",
    "model = Model(inputs= base_model_2.input , outputs = x)"
   ]
  },
  {
   "cell_type": "code",
   "execution_count": 5,
   "id": "a8145321",
   "metadata": {
    "execution": {
     "iopub.execute_input": "2022-03-03T10:50:17.082602Z",
     "iopub.status.busy": "2022-03-03T10:50:17.081710Z",
     "iopub.status.idle": "2022-03-03T10:50:17.120502Z",
     "shell.execute_reply": "2022-03-03T10:50:17.119821Z",
     "shell.execute_reply.started": "2021-11-27T08:50:22.989308Z"
    },
    "papermill": {
     "duration": 0.074308,
     "end_time": "2022-03-03T10:50:17.120667",
     "exception": false,
     "start_time": "2022-03-03T10:50:17.046359",
     "status": "completed"
    },
    "tags": []
   },
   "outputs": [],
   "source": [
    "ACCURACY_THRESHOLD = 0.95\n",
    "\n",
    "class myCallback(tf.keras.callbacks.Callback):\n",
    "    def on_epoch_end(self, epoch, logs={}):\n",
    "        if(logs.get('val_accuracy') > ACCURACY_THRESHOLD):\n",
    "            print(\"\\nReached %2.2f%% accuracy, so stopping training!!\" %(ACCURACY_THRESHOLD*100))\n",
    "            self.model.stop_training = True\n",
    "\n",
    "METRICS = [\n",
    "      tf.keras.metrics.BinaryAccuracy(name='accuracy'),\n",
    "      tf.keras.metrics.Precision(name='precision'),\n",
    "      tf.keras.metrics.Recall(name='recall'),  \n",
    "      tf.keras.metrics.AUC(name='auc')\n",
    "]\n",
    "callbacks = myCallback()\n",
    "model.compile(optimizer=optimizers.Adam(learning_rate=0.001), loss='categorical_crossentropy',metrics=METRICS)"
   ]
  },
  {
   "cell_type": "code",
   "execution_count": 6,
   "id": "f3e7ae8c",
   "metadata": {
    "execution": {
     "iopub.execute_input": "2022-03-03T10:50:17.179468Z",
     "iopub.status.busy": "2022-03-03T10:50:17.178502Z",
     "iopub.status.idle": "2022-03-03T11:17:44.657564Z",
     "shell.execute_reply": "2022-03-03T11:17:44.658017Z",
     "shell.execute_reply.started": "2021-11-27T08:50:23.034893Z"
    },
    "papermill": {
     "duration": 1647.514183,
     "end_time": "2022-03-03T11:17:44.658191",
     "exception": false,
     "start_time": "2022-03-03T10:50:17.144008",
     "status": "completed"
    },
    "tags": []
   },
   "outputs": [
    {
     "name": "stderr",
     "output_type": "stream",
     "text": [
      "2022-03-03 10:50:18.649459: I tensorflow/compiler/mlir/mlir_graph_optimization_pass.cc:185] None of the MLIR Optimization Passes are enabled (registered 2)\n"
     ]
    },
    {
     "name": "stdout",
     "output_type": "stream",
     "text": [
      "Epoch 1/1000\n"
     ]
    },
    {
     "name": "stderr",
     "output_type": "stream",
     "text": [
      "2022-03-03 10:50:26.375456: I tensorflow/stream_executor/cuda/cuda_dnn.cc:369] Loaded cuDNN version 8005\n"
     ]
    },
    {
     "name": "stdout",
     "output_type": "stream",
     "text": [
      "10/10 [==============================] - 28s 2s/step - loss: 73.6187 - accuracy: 0.6978 - precision: 0.3940 - recall: 0.3883 - auc: 0.6002 - val_loss: 21.7008 - val_accuracy: 0.6875 - val_precision: 0.3750 - val_recall: 0.3750 - val_auc: 0.5798\n",
      "Epoch 2/1000\n",
      "10/10 [==============================] - 10s 1s/step - loss: 11.8764 - accuracy: 0.7321 - precision: 0.4641 - recall: 0.4633 - auc: 0.6641 - val_loss: 1.6306 - val_accuracy: 0.7986 - val_precision: 0.6000 - val_recall: 0.5833 - val_auc: 0.8267\n",
      "Epoch 3/1000\n",
      "10/10 [==============================] - 10s 1s/step - loss: 2.7449 - accuracy: 0.7945 - precision: 0.5913 - recall: 0.5759 - auc: 0.7985 - val_loss: 1.8052 - val_accuracy: 0.7708 - val_precision: 0.5429 - val_recall: 0.5278 - val_auc: 0.8106\n",
      "Epoch 4/1000\n",
      "10/10 [==============================] - 11s 1s/step - loss: 1.5132 - accuracy: 0.8026 - precision: 0.6130 - recall: 0.5710 - auc: 0.8355 - val_loss: 1.1252 - val_accuracy: 0.7986 - val_precision: 0.6207 - val_recall: 0.5000 - val_auc: 0.8284\n",
      "Epoch 5/1000\n",
      "10/10 [==============================] - 10s 1s/step - loss: 0.8851 - accuracy: 0.8344 - precision: 0.7226 - recall: 0.5481 - auc: 0.8803 - val_loss: 0.8028 - val_accuracy: 0.8160 - val_precision: 0.7879 - val_recall: 0.3611 - val_auc: 0.8747\n",
      "Epoch 6/1000\n",
      "10/10 [==============================] - 11s 1s/step - loss: 0.7966 - accuracy: 0.8430 - precision: 0.8065 - recall: 0.4894 - auc: 0.8899 - val_loss: 0.9043 - val_accuracy: 0.8090 - val_precision: 0.7179 - val_recall: 0.3889 - val_auc: 0.8346\n",
      "Epoch 7/1000\n",
      "10/10 [==============================] - 10s 1s/step - loss: 0.6866 - accuracy: 0.8609 - precision: 0.8036 - recall: 0.5873 - auc: 0.9163 - val_loss: 0.8330 - val_accuracy: 0.8264 - val_precision: 0.7200 - val_recall: 0.5000 - val_auc: 0.8725\n",
      "Epoch 8/1000\n",
      "10/10 [==============================] - 11s 1s/step - loss: 0.6923 - accuracy: 0.8601 - precision: 0.7909 - recall: 0.5987 - auc: 0.9130 - val_loss: 0.8421 - val_accuracy: 0.8125 - val_precision: 0.6800 - val_recall: 0.4722 - val_auc: 0.8662\n",
      "Epoch 9/1000\n",
      "10/10 [==============================] - 10s 1s/step - loss: 0.6274 - accuracy: 0.8699 - precision: 0.8101 - recall: 0.6264 - auc: 0.9291 - val_loss: 0.8620 - val_accuracy: 0.8160 - val_precision: 0.7021 - val_recall: 0.4583 - val_auc: 0.8638\n",
      "Epoch 10/1000\n",
      "10/10 [==============================] - 10s 995ms/step - loss: 0.6537 - accuracy: 0.8670 - precision: 0.7887 - recall: 0.6395 - auc: 0.9234 - val_loss: 0.8715 - val_accuracy: 0.8090 - val_precision: 0.6545 - val_recall: 0.5000 - val_auc: 0.8603\n",
      "Epoch 11/1000\n",
      "10/10 [==============================] - 11s 1s/step - loss: 0.6018 - accuracy: 0.8789 - precision: 0.8362 - recall: 0.6411 - auc: 0.9350 - val_loss: 0.8243 - val_accuracy: 0.8160 - val_precision: 0.6863 - val_recall: 0.4861 - val_auc: 0.8762\n",
      "Epoch 12/1000\n",
      "10/10 [==============================] - 10s 980ms/step - loss: 0.6238 - accuracy: 0.8654 - precision: 0.7859 - recall: 0.6346 - auc: 0.9299 - val_loss: 0.8974 - val_accuracy: 0.8125 - val_precision: 0.6731 - val_recall: 0.4861 - val_auc: 0.8558\n",
      "Epoch 13/1000\n",
      "10/10 [==============================] - 10s 1s/step - loss: 0.5678 - accuracy: 0.8854 - precision: 0.8444 - recall: 0.6639 - auc: 0.9437 - val_loss: 0.8086 - val_accuracy: 0.8368 - val_precision: 0.7119 - val_recall: 0.5833 - val_auc: 0.8825\n",
      "Epoch 14/1000\n",
      "10/10 [==============================] - 11s 1s/step - loss: 0.6033 - accuracy: 0.8878 - precision: 0.8238 - recall: 0.7015 - auc: 0.9416 - val_loss: 0.8161 - val_accuracy: 0.8368 - val_precision: 0.7119 - val_recall: 0.5833 - val_auc: 0.8839\n",
      "Epoch 15/1000\n",
      "10/10 [==============================] - 10s 1s/step - loss: 0.5128 - accuracy: 0.8903 - precision: 0.8373 - recall: 0.6966 - auc: 0.9523 - val_loss: 0.7375 - val_accuracy: 0.8299 - val_precision: 0.6885 - val_recall: 0.5833 - val_auc: 0.9014\n",
      "Epoch 16/1000\n",
      "10/10 [==============================] - 10s 1s/step - loss: 0.5251 - accuracy: 0.8960 - precision: 0.8442 - recall: 0.7162 - auc: 0.9518 - val_loss: 0.7930 - val_accuracy: 0.8368 - val_precision: 0.6984 - val_recall: 0.6111 - val_auc: 0.8924\n",
      "Epoch 17/1000\n",
      "10/10 [==============================] - 10s 1s/step - loss: 0.5312 - accuracy: 0.8899 - precision: 0.8182 - recall: 0.7194 - auc: 0.9515 - val_loss: 0.8191 - val_accuracy: 0.8403 - val_precision: 0.6970 - val_recall: 0.6389 - val_auc: 0.8961\n",
      "Epoch 18/1000\n",
      "10/10 [==============================] - 11s 1s/step - loss: 0.5166 - accuracy: 0.8927 - precision: 0.8070 - recall: 0.7504 - auc: 0.9528 - val_loss: 0.6543 - val_accuracy: 0.8611 - val_precision: 0.7759 - val_recall: 0.6250 - val_auc: 0.9246\n",
      "Epoch 19/1000\n",
      "10/10 [==============================] - 10s 1s/step - loss: 0.4667 - accuracy: 0.9103 - precision: 0.8541 - recall: 0.7732 - auc: 0.9624 - val_loss: 0.7705 - val_accuracy: 0.8299 - val_precision: 0.6825 - val_recall: 0.5972 - val_auc: 0.8976\n",
      "Epoch 20/1000\n",
      "10/10 [==============================] - 10s 1s/step - loss: 0.4559 - accuracy: 0.9042 - precision: 0.8487 - recall: 0.7504 - auc: 0.9636 - val_loss: 0.7113 - val_accuracy: 0.8438 - val_precision: 0.7288 - val_recall: 0.5972 - val_auc: 0.9108\n",
      "Epoch 21/1000\n",
      "10/10 [==============================] - 11s 1s/step - loss: 0.4561 - accuracy: 0.9095 - precision: 0.8668 - recall: 0.7537 - auc: 0.9632 - val_loss: 0.7138 - val_accuracy: 0.8542 - val_precision: 0.7419 - val_recall: 0.6389 - val_auc: 0.9075\n",
      "Epoch 22/1000\n",
      "10/10 [==============================] - 10s 1s/step - loss: 0.4402 - accuracy: 0.9127 - precision: 0.8621 - recall: 0.7749 - auc: 0.9655 - val_loss: 0.6362 - val_accuracy: 0.8576 - val_precision: 0.7541 - val_recall: 0.6389 - val_auc: 0.9241\n",
      "Epoch 23/1000\n",
      "10/10 [==============================] - 10s 1s/step - loss: 0.4312 - accuracy: 0.9201 - precision: 0.8743 - recall: 0.7945 - auc: 0.9672 - val_loss: 0.6084 - val_accuracy: 0.8681 - val_precision: 0.7656 - val_recall: 0.6806 - val_auc: 0.9343\n",
      "Epoch 24/1000\n",
      "10/10 [==============================] - 11s 1s/step - loss: 0.4042 - accuracy: 0.9135 - precision: 0.8549 - recall: 0.7879 - auc: 0.9708 - val_loss: 0.6972 - val_accuracy: 0.8333 - val_precision: 0.6875 - val_recall: 0.6111 - val_auc: 0.9127\n",
      "Epoch 25/1000\n",
      "10/10 [==============================] - 10s 1s/step - loss: 0.4329 - accuracy: 0.9070 - precision: 0.8395 - recall: 0.7765 - auc: 0.9666 - val_loss: 0.6235 - val_accuracy: 0.8715 - val_precision: 0.7869 - val_recall: 0.6667 - val_auc: 0.9311\n",
      "Epoch 26/1000\n",
      "10/10 [==============================] - 10s 1s/step - loss: 0.3908 - accuracy: 0.9176 - precision: 0.8676 - recall: 0.7912 - auc: 0.9730 - val_loss: 0.5921 - val_accuracy: 0.8750 - val_precision: 0.7812 - val_recall: 0.6944 - val_auc: 0.9368\n",
      "Epoch 27/1000\n",
      "10/10 [==============================] - 11s 1s/step - loss: 0.3943 - accuracy: 0.9278 - precision: 0.8978 - recall: 0.8026 - auc: 0.9737 - val_loss: 0.6635 - val_accuracy: 0.8507 - val_precision: 0.7302 - val_recall: 0.6389 - val_auc: 0.9226\n",
      "Epoch 28/1000\n",
      "10/10 [==============================] - 10s 982ms/step - loss: 0.4002 - accuracy: 0.9176 - precision: 0.8537 - recall: 0.8091 - auc: 0.9715 - val_loss: 0.5854 - val_accuracy: 0.8576 - val_precision: 0.7541 - val_recall: 0.6389 - val_auc: 0.9384\n",
      "Epoch 29/1000\n",
      "10/10 [==============================] - 10s 993ms/step - loss: 0.4037 - accuracy: 0.9188 - precision: 0.8723 - recall: 0.7912 - auc: 0.9712 - val_loss: 0.6818 - val_accuracy: 0.8646 - val_precision: 0.7619 - val_recall: 0.6667 - val_auc: 0.9198\n",
      "Epoch 30/1000\n",
      "10/10 [==============================] - 11s 1s/step - loss: 0.3959 - accuracy: 0.9213 - precision: 0.8684 - recall: 0.8075 - auc: 0.9718 - val_loss: 0.6766 - val_accuracy: 0.8646 - val_precision: 0.7619 - val_recall: 0.6667 - val_auc: 0.9221\n",
      "Epoch 31/1000\n",
      "10/10 [==============================] - 10s 1s/step - loss: 0.4034 - accuracy: 0.9188 - precision: 0.8619 - recall: 0.8042 - auc: 0.9713 - val_loss: 0.6074 - val_accuracy: 0.8681 - val_precision: 0.7656 - val_recall: 0.6806 - val_auc: 0.9332\n",
      "Epoch 32/1000\n",
      "10/10 [==============================] - 10s 1s/step - loss: 0.3696 - accuracy: 0.9323 - precision: 0.8956 - recall: 0.8254 - auc: 0.9764 - val_loss: 0.6942 - val_accuracy: 0.8472 - val_precision: 0.7258 - val_recall: 0.6250 - val_auc: 0.9155\n",
      "Epoch 33/1000\n",
      "10/10 [==============================] - 11s 1s/step - loss: 0.3682 - accuracy: 0.9270 - precision: 0.8834 - recall: 0.8157 - auc: 0.9759 - val_loss: 0.6305 - val_accuracy: 0.8715 - val_precision: 0.7869 - val_recall: 0.6667 - val_auc: 0.9348\n",
      "Epoch 34/1000\n",
      "10/10 [==============================] - 10s 1s/step - loss: 0.3542 - accuracy: 0.9262 - precision: 0.8789 - recall: 0.8173 - auc: 0.9772 - val_loss: 0.6367 - val_accuracy: 0.8507 - val_precision: 0.7231 - val_recall: 0.6528 - val_auc: 0.9316\n",
      "Epoch 35/1000\n",
      "10/10 [==============================] - 10s 1s/step - loss: 0.3955 - accuracy: 0.9290 - precision: 0.8955 - recall: 0.8108 - auc: 0.9723 - val_loss: 0.6613 - val_accuracy: 0.8507 - val_precision: 0.7231 - val_recall: 0.6528 - val_auc: 0.9245\n",
      "Epoch 36/1000\n",
      "10/10 [==============================] - 10s 1s/step - loss: 0.3612 - accuracy: 0.9294 - precision: 0.8860 - recall: 0.8238 - auc: 0.9768 - val_loss: 0.5985 - val_accuracy: 0.8576 - val_precision: 0.7313 - val_recall: 0.6806 - val_auc: 0.9392\n",
      "Epoch 37/1000\n",
      "10/10 [==============================] - 11s 1s/step - loss: 0.3335 - accuracy: 0.9294 - precision: 0.8793 - recall: 0.8320 - auc: 0.9804 - val_loss: 0.5785 - val_accuracy: 0.8681 - val_precision: 0.7656 - val_recall: 0.6806 - val_auc: 0.9391\n",
      "Epoch 38/1000\n",
      "10/10 [==============================] - 10s 1s/step - loss: 0.3093 - accuracy: 0.9433 - precision: 0.9187 - recall: 0.8483 - auc: 0.9838 - val_loss: 0.5844 - val_accuracy: 0.8715 - val_precision: 0.7612 - val_recall: 0.7083 - val_auc: 0.9412\n",
      "Epoch 39/1000\n",
      "10/10 [==============================] - 10s 1s/step - loss: 0.4025 - accuracy: 0.9307 - precision: 0.8748 - recall: 0.8434 - auc: 0.9763 - val_loss: 0.5034 - val_accuracy: 0.8681 - val_precision: 0.7656 - val_recall: 0.6806 - val_auc: 0.9512\n",
      "Epoch 40/1000\n",
      "10/10 [==============================] - 11s 1s/step - loss: 0.3107 - accuracy: 0.9462 - precision: 0.9227 - recall: 0.8564 - auc: 0.9841 - val_loss: 0.4860 - val_accuracy: 0.8854 - val_precision: 0.8095 - val_recall: 0.7083 - val_auc: 0.9545\n",
      "Epoch 41/1000\n",
      "10/10 [==============================] - 10s 1s/step - loss: 0.3249 - accuracy: 0.9356 - precision: 0.8916 - recall: 0.8450 - auc: 0.9803 - val_loss: 0.5943 - val_accuracy: 0.8750 - val_precision: 0.7647 - val_recall: 0.7222 - val_auc: 0.9434\n",
      "Epoch 42/1000\n",
      "10/10 [==============================] - 10s 1s/step - loss: 0.3659 - accuracy: 0.9327 - precision: 0.8875 - recall: 0.8369 - auc: 0.9764 - val_loss: 0.6210 - val_accuracy: 0.8646 - val_precision: 0.7705 - val_recall: 0.6528 - val_auc: 0.9348\n",
      "Epoch 43/1000\n",
      "10/10 [==============================] - 11s 1s/step - loss: 0.3147 - accuracy: 0.9372 - precision: 0.8977 - recall: 0.8450 - auc: 0.9829 - val_loss: 0.5470 - val_accuracy: 0.8924 - val_precision: 0.8254 - val_recall: 0.7222 - val_auc: 0.9483\n",
      "Epoch 44/1000\n",
      "10/10 [==============================] - 10s 1s/step - loss: 0.3277 - accuracy: 0.9458 - precision: 0.9068 - recall: 0.8728 - auc: 0.9808 - val_loss: 0.6008 - val_accuracy: 0.8819 - val_precision: 0.7879 - val_recall: 0.7222 - val_auc: 0.9419\n",
      "Epoch 45/1000\n",
      "10/10 [==============================] - 10s 1s/step - loss: 0.2860 - accuracy: 0.9454 - precision: 0.9136 - recall: 0.8630 - auc: 0.9861 - val_loss: 0.5043 - val_accuracy: 0.8785 - val_precision: 0.7761 - val_recall: 0.7222 - val_auc: 0.9547\n",
      "Epoch 46/1000\n",
      "10/10 [==============================] - 11s 1s/step - loss: 0.2631 - accuracy: 0.9466 - precision: 0.9170 - recall: 0.8646 - auc: 0.9874 - val_loss: 0.5431 - val_accuracy: 0.9097 - val_precision: 0.8382 - val_recall: 0.7917 - val_auc: 0.9469\n",
      "Epoch 47/1000\n",
      "10/10 [==============================] - 10s 999ms/step - loss: 0.2606 - accuracy: 0.9482 - precision: 0.9091 - recall: 0.8809 - auc: 0.9871 - val_loss: 0.5327 - val_accuracy: 0.9062 - val_precision: 0.8462 - val_recall: 0.7639 - val_auc: 0.9515\n",
      "Epoch 48/1000\n",
      "10/10 [==============================] - 10s 988ms/step - loss: 0.3068 - accuracy: 0.9384 - precision: 0.8969 - recall: 0.8515 - auc: 0.9832 - val_loss: 0.4730 - val_accuracy: 0.9132 - val_precision: 0.8615 - val_recall: 0.7778 - val_auc: 0.9603\n",
      "Epoch 49/1000\n",
      "10/10 [==============================] - 11s 1s/step - loss: 0.3673 - accuracy: 0.9474 - precision: 0.9158 - recall: 0.8695 - auc: 0.9808 - val_loss: 0.5521 - val_accuracy: 0.8889 - val_precision: 0.7941 - val_recall: 0.7500 - val_auc: 0.9552\n",
      "Epoch 50/1000\n",
      "10/10 [==============================] - 10s 1s/step - loss: 0.2876 - accuracy: 0.9498 - precision: 0.9125 - recall: 0.8842 - auc: 0.9843 - val_loss: 0.4730 - val_accuracy: 0.9062 - val_precision: 0.8462 - val_recall: 0.7639 - val_auc: 0.9602\n",
      "Epoch 51/1000\n",
      "10/10 [==============================] - 10s 997ms/step - loss: 0.2345 - accuracy: 0.9523 - precision: 0.9218 - recall: 0.8842 - auc: 0.9900 - val_loss: 0.5065 - val_accuracy: 0.8715 - val_precision: 0.7536 - val_recall: 0.7222 - val_auc: 0.9552\n",
      "Epoch 52/1000\n",
      "10/10 [==============================] - 11s 1s/step - loss: 0.2770 - accuracy: 0.9454 - precision: 0.9039 - recall: 0.8744 - auc: 0.9848 - val_loss: 0.5272 - val_accuracy: 0.8854 - val_precision: 0.8095 - val_recall: 0.7083 - val_auc: 0.9523\n",
      "Epoch 53/1000\n",
      "10/10 [==============================] - 10s 1s/step - loss: 0.2631 - accuracy: 0.9478 - precision: 0.9103 - recall: 0.8777 - auc: 0.9879 - val_loss: 0.5426 - val_accuracy: 0.8889 - val_precision: 0.7941 - val_recall: 0.7500 - val_auc: 0.9531\n",
      "Epoch 54/1000\n",
      "10/10 [==============================] - 10s 1s/step - loss: 0.2924 - accuracy: 0.9449 - precision: 0.9024 - recall: 0.8744 - auc: 0.9844 - val_loss: 0.5417 - val_accuracy: 0.8924 - val_precision: 0.7971 - val_recall: 0.7639 - val_auc: 0.9524\n",
      "Epoch 55/1000\n",
      "10/10 [==============================] - 10s 1s/step - loss: 0.3090 - accuracy: 0.9413 - precision: 0.9036 - recall: 0.8564 - auc: 0.9832 - val_loss: 0.5919 - val_accuracy: 0.8646 - val_precision: 0.7538 - val_recall: 0.6806 - val_auc: 0.9378\n",
      "Epoch 56/1000\n",
      "10/10 [==============================] - 11s 1s/step - loss: 0.3189 - accuracy: 0.9356 - precision: 0.8902 - recall: 0.8467 - auc: 0.9811 - val_loss: 0.5094 - val_accuracy: 0.8993 - val_precision: 0.8116 - val_recall: 0.7778 - val_auc: 0.9570\n",
      "Epoch 57/1000\n",
      "10/10 [==============================] - 10s 1000ms/step - loss: 0.2621 - accuracy: 0.9494 - precision: 0.9123 - recall: 0.8825 - auc: 0.9874 - val_loss: 0.5175 - val_accuracy: 0.8958 - val_precision: 0.8088 - val_recall: 0.7639 - val_auc: 0.9555\n",
      "Epoch 58/1000\n",
      "10/10 [==============================] - 10s 1s/step - loss: 0.2636 - accuracy: 0.9494 - precision: 0.9165 - recall: 0.8777 - auc: 0.9875 - val_loss: 0.7202 - val_accuracy: 0.8507 - val_precision: 0.7101 - val_recall: 0.6806 - val_auc: 0.9271\n",
      "Epoch 59/1000\n",
      "10/10 [==============================] - 11s 1s/step - loss: 0.2698 - accuracy: 0.9494 - precision: 0.9137 - recall: 0.8809 - auc: 0.9867 - val_loss: 0.4469 - val_accuracy: 0.9167 - val_precision: 0.8529 - val_recall: 0.8056 - val_auc: 0.9632\n",
      "Epoch 60/1000\n",
      "10/10 [==============================] - 10s 1s/step - loss: 0.2751 - accuracy: 0.9511 - precision: 0.9185 - recall: 0.8825 - auc: 0.9865 - val_loss: 0.5214 - val_accuracy: 0.8819 - val_precision: 0.7794 - val_recall: 0.7361 - val_auc: 0.9498\n",
      "Epoch 61/1000\n",
      "10/10 [==============================] - 10s 1s/step - loss: 0.2605 - accuracy: 0.9482 - precision: 0.9175 - recall: 0.8711 - auc: 0.9878 - val_loss: 0.3842 - val_accuracy: 0.9201 - val_precision: 0.8551 - val_recall: 0.8194 - val_auc: 0.9736\n",
      "Epoch 62/1000\n",
      "10/10 [==============================] - 11s 1s/step - loss: 0.2402 - accuracy: 0.9527 - precision: 0.9176 - recall: 0.8907 - auc: 0.9895 - val_loss: 0.4761 - val_accuracy: 0.9062 - val_precision: 0.8261 - val_recall: 0.7917 - val_auc: 0.9629\n",
      "Epoch 63/1000\n",
      "10/10 [==============================] - 10s 1s/step - loss: 0.2699 - accuracy: 0.9502 - precision: 0.9126 - recall: 0.8858 - auc: 0.9869 - val_loss: 0.4350 - val_accuracy: 0.9028 - val_precision: 0.8235 - val_recall: 0.7778 - val_auc: 0.9664\n",
      "Epoch 64/1000\n",
      "10/10 [==============================] - 10s 1s/step - loss: 0.3018 - accuracy: 0.9409 - precision: 0.9007 - recall: 0.8581 - auc: 0.9833 - val_loss: 0.3852 - val_accuracy: 0.9132 - val_precision: 0.8730 - val_recall: 0.7639 - val_auc: 0.9735\n",
      "Epoch 65/1000\n",
      "10/10 [==============================] - 11s 1s/step - loss: 0.2771 - accuracy: 0.9511 - precision: 0.9199 - recall: 0.8809 - auc: 0.9859 - val_loss: 0.5275 - val_accuracy: 0.8889 - val_precision: 0.7857 - val_recall: 0.7639 - val_auc: 0.9563\n",
      "Epoch 66/1000\n",
      "10/10 [==============================] - 10s 983ms/step - loss: 0.2621 - accuracy: 0.9502 - precision: 0.9140 - recall: 0.8842 - auc: 0.9870 - val_loss: 0.5113 - val_accuracy: 0.8958 - val_precision: 0.8000 - val_recall: 0.7778 - val_auc: 0.9546\n",
      "Epoch 67/1000\n",
      "10/10 [==============================] - 10s 988ms/step - loss: 0.2549 - accuracy: 0.9478 - precision: 0.9131 - recall: 0.8744 - auc: 0.9882 - val_loss: 0.4299 - val_accuracy: 0.9028 - val_precision: 0.8438 - val_recall: 0.7500 - val_auc: 0.9661\n",
      "Epoch 68/1000\n",
      "10/10 [==============================] - 11s 1s/step - loss: 0.2438 - accuracy: 0.9515 - precision: 0.9172 - recall: 0.8858 - auc: 0.9893 - val_loss: 0.4502 - val_accuracy: 0.9028 - val_precision: 0.8235 - val_recall: 0.7778 - val_auc: 0.9632\n",
      "Epoch 69/1000\n",
      "10/10 [==============================] - 10s 1s/step - loss: 0.1970 - accuracy: 0.9625 - precision: 0.9393 - recall: 0.9086 - auc: 0.9931 - val_loss: 0.4653 - val_accuracy: 0.8993 - val_precision: 0.8209 - val_recall: 0.7639 - val_auc: 0.9615\n",
      "Epoch 70/1000\n",
      "10/10 [==============================] - 10s 1s/step - loss: 0.2039 - accuracy: 0.9560 - precision: 0.9229 - recall: 0.8989 - auc: 0.9918 - val_loss: 0.4109 - val_accuracy: 0.9167 - val_precision: 0.8429 - val_recall: 0.8194 - val_auc: 0.9715\n",
      "Epoch 71/1000\n",
      "10/10 [==============================] - 11s 1s/step - loss: 0.2655 - accuracy: 0.9543 - precision: 0.9210 - recall: 0.8940 - auc: 0.9885 - val_loss: 0.3823 - val_accuracy: 0.9167 - val_precision: 0.8636 - val_recall: 0.7917 - val_auc: 0.9725\n",
      "Epoch 72/1000\n",
      "10/10 [==============================] - 10s 1s/step - loss: 0.2471 - accuracy: 0.9429 - precision: 0.8935 - recall: 0.8760 - auc: 0.9896 - val_loss: 0.4137 - val_accuracy: 0.9236 - val_precision: 0.8571 - val_recall: 0.8333 - val_auc: 0.9696\n",
      "Epoch 73/1000\n",
      "10/10 [==============================] - 10s 1s/step - loss: 0.2399 - accuracy: 0.9551 - precision: 0.9255 - recall: 0.8923 - auc: 0.9893 - val_loss: 0.4054 - val_accuracy: 0.9062 - val_precision: 0.8261 - val_recall: 0.7917 - val_auc: 0.9708\n",
      "Epoch 74/1000\n",
      "10/10 [==============================] - 10s 1s/step - loss: 0.2702 - accuracy: 0.9498 - precision: 0.9097 - recall: 0.8874 - auc: 0.9870 - val_loss: 0.4297 - val_accuracy: 0.9028 - val_precision: 0.8235 - val_recall: 0.7778 - val_auc: 0.9677\n",
      "Epoch 75/1000\n",
      "10/10 [==============================] - 10s 1s/step - loss: 0.2456 - accuracy: 0.9580 - precision: 0.9307 - recall: 0.8989 - auc: 0.9894 - val_loss: 0.3723 - val_accuracy: 0.9306 - val_precision: 0.8824 - val_recall: 0.8333 - val_auc: 0.9754\n",
      "Epoch 76/1000\n",
      "10/10 [==============================] - 11s 1s/step - loss: 0.2461 - accuracy: 0.9547 - precision: 0.9269 - recall: 0.8891 - auc: 0.9893 - val_loss: 0.4397 - val_accuracy: 0.9132 - val_precision: 0.8406 - val_recall: 0.8056 - val_auc: 0.9670\n",
      "Epoch 77/1000\n",
      "10/10 [==============================] - 11s 1s/step - loss: 0.2222 - accuracy: 0.9580 - precision: 0.9279 - recall: 0.9021 - auc: 0.9902 - val_loss: 0.8162 - val_accuracy: 0.8576 - val_precision: 0.7313 - val_recall: 0.6806 - val_auc: 0.9224\n",
      "Epoch 78/1000\n",
      "10/10 [==============================] - 10s 1s/step - loss: 0.2179 - accuracy: 0.9604 - precision: 0.9300 - recall: 0.9103 - auc: 0.9893 - val_loss: 0.4831 - val_accuracy: 0.9167 - val_precision: 0.8529 - val_recall: 0.8056 - val_auc: 0.9659\n",
      "Epoch 79/1000\n",
      "10/10 [==============================] - 11s 1s/step - loss: 0.2494 - accuracy: 0.9535 - precision: 0.9165 - recall: 0.8956 - auc: 0.9890 - val_loss: 0.5009 - val_accuracy: 0.8854 - val_precision: 0.7826 - val_recall: 0.7500 - val_auc: 0.9598\n",
      "Epoch 80/1000\n",
      "10/10 [==============================] - 11s 1s/step - loss: 0.2477 - accuracy: 0.9482 - precision: 0.9204 - recall: 0.8679 - auc: 0.9890 - val_loss: 0.3404 - val_accuracy: 0.9097 - val_precision: 0.8485 - val_recall: 0.7778 - val_auc: 0.9779\n",
      "Epoch 81/1000\n",
      "10/10 [==============================] - 10s 1s/step - loss: 0.2195 - accuracy: 0.9560 - precision: 0.9244 - recall: 0.8972 - auc: 0.9908 - val_loss: 0.4959 - val_accuracy: 0.8958 - val_precision: 0.8000 - val_recall: 0.7778 - val_auc: 0.9584\n",
      "Epoch 82/1000\n",
      "10/10 [==============================] - 10s 998ms/step - loss: 0.2553 - accuracy: 0.9507 - precision: 0.9128 - recall: 0.8874 - auc: 0.9863 - val_loss: 0.4995 - val_accuracy: 0.8993 - val_precision: 0.8209 - val_recall: 0.7639 - val_auc: 0.9615\n",
      "Epoch 83/1000\n",
      "10/10 [==============================] - 11s 1s/step - loss: 0.2051 - accuracy: 0.9613 - precision: 0.9288 - recall: 0.9152 - auc: 0.9922 - val_loss: 0.4310 - val_accuracy: 0.9167 - val_precision: 0.8429 - val_recall: 0.8194 - val_auc: 0.9676\n",
      "Epoch 84/1000\n",
      "10/10 [==============================] - 10s 1s/step - loss: 0.1744 - accuracy: 0.9715 - precision: 0.9563 - recall: 0.9282 - auc: 0.9946 - val_loss: 0.5577 - val_accuracy: 0.8958 - val_precision: 0.7917 - val_recall: 0.7917 - val_auc: 0.9590\n",
      "Epoch 85/1000\n",
      "10/10 [==============================] - 10s 986ms/step - loss: 0.2212 - accuracy: 0.9633 - precision: 0.9351 - recall: 0.9168 - auc: 0.9903 - val_loss: 0.4879 - val_accuracy: 0.9132 - val_precision: 0.8310 - val_recall: 0.8194 - val_auc: 0.9642\n",
      "Epoch 86/1000\n",
      "10/10 [==============================] - 11s 1s/step - loss: 0.2212 - accuracy: 0.9584 - precision: 0.9265 - recall: 0.9054 - auc: 0.9906 - val_loss: 0.4413 - val_accuracy: 0.9236 - val_precision: 0.8571 - val_recall: 0.8333 - val_auc: 0.9682\n",
      "Epoch 87/1000\n",
      "10/10 [==============================] - 10s 1s/step - loss: 0.2017 - accuracy: 0.9617 - precision: 0.9347 - recall: 0.9103 - auc: 0.9921 - val_loss: 0.4835 - val_accuracy: 0.8924 - val_precision: 0.7887 - val_recall: 0.7778 - val_auc: 0.9653\n",
      "Epoch 88/1000\n",
      "10/10 [==============================] - 10s 1s/step - loss: 0.2042 - accuracy: 0.9649 - precision: 0.9399 - recall: 0.9184 - auc: 0.9904 - val_loss: 0.4803 - val_accuracy: 0.9201 - val_precision: 0.8551 - val_recall: 0.8194 - val_auc: 0.9657\n",
      "Epoch 89/1000\n",
      "10/10 [==============================] - 11s 1s/step - loss: 0.1742 - accuracy: 0.9600 - precision: 0.9313 - recall: 0.9070 - auc: 0.9945 - val_loss: 0.3802 - val_accuracy: 0.9201 - val_precision: 0.8551 - val_recall: 0.8194 - val_auc: 0.9745\n",
      "Epoch 90/1000\n",
      "10/10 [==============================] - 11s 1s/step - loss: 0.1797 - accuracy: 0.9653 - precision: 0.9356 - recall: 0.9250 - auc: 0.9932 - val_loss: 0.5116 - val_accuracy: 0.9028 - val_precision: 0.8143 - val_recall: 0.7917 - val_auc: 0.9659\n",
      "Epoch 91/1000\n",
      "10/10 [==============================] - 10s 1s/step - loss: 0.2529 - accuracy: 0.9490 - precision: 0.9040 - recall: 0.8907 - auc: 0.9887 - val_loss: 0.6422 - val_accuracy: 0.8854 - val_precision: 0.7826 - val_recall: 0.7500 - val_auc: 0.9418\n",
      "Epoch 92/1000\n",
      "10/10 [==============================] - 11s 1s/step - loss: 0.2000 - accuracy: 0.9629 - precision: 0.9350 - recall: 0.9152 - auc: 0.9929 - val_loss: 0.5629 - val_accuracy: 0.8889 - val_precision: 0.7941 - val_recall: 0.7500 - val_auc: 0.9530\n",
      "Epoch 93/1000\n",
      "10/10 [==============================] - 10s 1s/step - loss: 0.2104 - accuracy: 0.9613 - precision: 0.9317 - recall: 0.9119 - auc: 0.9912 - val_loss: 0.5202 - val_accuracy: 0.9097 - val_precision: 0.8382 - val_recall: 0.7917 - val_auc: 0.9615\n",
      "Epoch 94/1000\n",
      "10/10 [==============================] - 10s 1s/step - loss: 0.1876 - accuracy: 0.9608 - precision: 0.9287 - recall: 0.9135 - auc: 0.9935 - val_loss: 0.5809 - val_accuracy: 0.9201 - val_precision: 0.8657 - val_recall: 0.8056 - val_auc: 0.9498\n",
      "Epoch 95/1000\n",
      "10/10 [==============================] - 11s 1s/step - loss: 0.1827 - accuracy: 0.9625 - precision: 0.9320 - recall: 0.9168 - auc: 0.9933 - val_loss: 0.4940 - val_accuracy: 0.9236 - val_precision: 0.8788 - val_recall: 0.8056 - val_auc: 0.9563\n",
      "Epoch 96/1000\n",
      "10/10 [==============================] - 10s 1s/step - loss: 0.2282 - accuracy: 0.9592 - precision: 0.9311 - recall: 0.9038 - auc: 0.9902 - val_loss: 0.5503 - val_accuracy: 0.8924 - val_precision: 0.7971 - val_recall: 0.7639 - val_auc: 0.9523\n",
      "Epoch 97/1000\n",
      "10/10 [==============================] - 10s 1s/step - loss: 0.1738 - accuracy: 0.9629 - precision: 0.9321 - recall: 0.9184 - auc: 0.9947 - val_loss: 0.6250 - val_accuracy: 0.8854 - val_precision: 0.7746 - val_recall: 0.7639 - val_auc: 0.9450\n",
      "Epoch 98/1000\n",
      "10/10 [==============================] - 11s 1s/step - loss: 0.2267 - accuracy: 0.9588 - precision: 0.9267 - recall: 0.9070 - auc: 0.9902 - val_loss: 0.7737 - val_accuracy: 0.8819 - val_precision: 0.7639 - val_recall: 0.7639 - val_auc: 0.9331\n",
      "Epoch 99/1000\n",
      "10/10 [==============================] - 11s 1s/step - loss: 0.2241 - accuracy: 0.9600 - precision: 0.9299 - recall: 0.9086 - auc: 0.9902 - val_loss: 0.4575 - val_accuracy: 0.9028 - val_precision: 0.8143 - val_recall: 0.7917 - val_auc: 0.9688\n",
      "Epoch 100/1000\n",
      "10/10 [==============================] - 10s 1s/step - loss: 0.2285 - accuracy: 0.9572 - precision: 0.9291 - recall: 0.8972 - auc: 0.9907 - val_loss: 0.4705 - val_accuracy: 0.8993 - val_precision: 0.8028 - val_recall: 0.7917 - val_auc: 0.9651\n",
      "Epoch 101/1000\n",
      "10/10 [==============================] - 11s 1s/step - loss: 0.2095 - accuracy: 0.9551 - precision: 0.9185 - recall: 0.9005 - auc: 0.9920 - val_loss: 0.3863 - val_accuracy: 0.9236 - val_precision: 0.8571 - val_recall: 0.8333 - val_auc: 0.9751\n",
      "Epoch 102/1000\n",
      "10/10 [==============================] - 11s 1s/step - loss: 0.2242 - accuracy: 0.9645 - precision: 0.9369 - recall: 0.9201 - auc: 0.9880 - val_loss: 0.4361 - val_accuracy: 0.9167 - val_precision: 0.8429 - val_recall: 0.8194 - val_auc: 0.9715\n",
      "Epoch 103/1000\n",
      "10/10 [==============================] - 10s 1s/step - loss: 0.1997 - accuracy: 0.9629 - precision: 0.9394 - recall: 0.9103 - auc: 0.9925 - val_loss: 0.4102 - val_accuracy: 0.9201 - val_precision: 0.8551 - val_recall: 0.8194 - val_auc: 0.9716\n",
      "Epoch 104/1000\n",
      "10/10 [==============================] - 11s 1s/step - loss: 0.2128 - accuracy: 0.9621 - precision: 0.9362 - recall: 0.9103 - auc: 0.9917 - val_loss: 0.3861 - val_accuracy: 0.9375 - val_precision: 0.8857 - val_recall: 0.8611 - val_auc: 0.9723\n",
      "Epoch 105/1000\n",
      "10/10 [==============================] - 10s 1s/step - loss: 0.1970 - accuracy: 0.9625 - precision: 0.9320 - recall: 0.9168 - auc: 0.9924 - val_loss: 0.4361 - val_accuracy: 0.9132 - val_precision: 0.8310 - val_recall: 0.8194 - val_auc: 0.9728\n",
      "Epoch 106/1000\n",
      "10/10 [==============================] - 10s 986ms/step - loss: 0.2251 - accuracy: 0.9555 - precision: 0.9158 - recall: 0.9054 - auc: 0.9892 - val_loss: 0.5565 - val_accuracy: 0.9062 - val_precision: 0.8261 - val_recall: 0.7917 - val_auc: 0.9585\n",
      "Epoch 107/1000\n",
      "10/10 [==============================] - 11s 1s/step - loss: 0.1964 - accuracy: 0.9617 - precision: 0.9289 - recall: 0.9168 - auc: 0.9916 - val_loss: 0.4527 - val_accuracy: 0.9271 - val_precision: 0.8592 - val_recall: 0.8472 - val_auc: 0.9716\n",
      "Epoch 108/1000\n",
      "10/10 [==============================] - 10s 1s/step - loss: 0.1761 - accuracy: 0.9657 - precision: 0.9372 - recall: 0.9250 - auc: 0.9937 - val_loss: 0.4011 - val_accuracy: 0.9236 - val_precision: 0.8676 - val_recall: 0.8194 - val_auc: 0.9723\n",
      "Epoch 109/1000\n",
      "10/10 [==============================] - 11s 1s/step - loss: 0.2481 - accuracy: 0.9531 - precision: 0.9164 - recall: 0.8940 - auc: 0.9884 - val_loss: 0.3798 - val_accuracy: 0.9167 - val_precision: 0.8529 - val_recall: 0.8056 - val_auc: 0.9753\n",
      "Epoch 110/1000\n",
      "10/10 [==============================] - 11s 1s/step - loss: 0.2069 - accuracy: 0.9564 - precision: 0.9203 - recall: 0.9038 - auc: 0.9922 - val_loss: 0.3327 - val_accuracy: 0.9201 - val_precision: 0.8551 - val_recall: 0.8194 - val_auc: 0.9805\n",
      "Epoch 111/1000\n",
      "10/10 [==============================] - 10s 1s/step - loss: 0.1985 - accuracy: 0.9588 - precision: 0.9252 - recall: 0.9086 - auc: 0.9914 - val_loss: 0.4104 - val_accuracy: 0.9028 - val_precision: 0.8235 - val_recall: 0.7778 - val_auc: 0.9705\n",
      "Epoch 112/1000\n",
      "10/10 [==============================] - 10s 1s/step - loss: 0.2391 - accuracy: 0.9531 - precision: 0.9192 - recall: 0.8907 - auc: 0.9886 - val_loss: 0.3575 - val_accuracy: 0.9271 - val_precision: 0.8806 - val_recall: 0.8194 - val_auc: 0.9758\n",
      "Epoch 113/1000\n",
      "10/10 [==============================] - 11s 1s/step - loss: 0.1964 - accuracy: 0.9588 - precision: 0.9354 - recall: 0.8972 - auc: 0.9932 - val_loss: 0.3498 - val_accuracy: 0.9340 - val_precision: 0.8732 - val_recall: 0.8611 - val_auc: 0.9771\n",
      "Epoch 114/1000\n",
      "10/10 [==============================] - 10s 1s/step - loss: 0.2280 - accuracy: 0.9568 - precision: 0.9218 - recall: 0.9038 - auc: 0.9903 - val_loss: 0.4914 - val_accuracy: 0.8958 - val_precision: 0.8000 - val_recall: 0.7778 - val_auc: 0.9628\n",
      "Epoch 115/1000\n",
      "10/10 [==============================] - 10s 1s/step - loss: 0.1506 - accuracy: 0.9706 - precision: 0.9486 - recall: 0.9331 - auc: 0.9961 - val_loss: 0.4461 - val_accuracy: 0.9062 - val_precision: 0.8261 - val_recall: 0.7917 - val_auc: 0.9690\n",
      "Epoch 116/1000\n",
      "10/10 [==============================] - 10s 1s/step - loss: 0.1676 - accuracy: 0.9637 - precision: 0.9352 - recall: 0.9184 - auc: 0.9949 - val_loss: 0.4614 - val_accuracy: 0.8958 - val_precision: 0.8088 - val_recall: 0.7639 - val_auc: 0.9649\n",
      "Epoch 117/1000\n",
      "10/10 [==============================] - 11s 1s/step - loss: 0.1953 - accuracy: 0.9649 - precision: 0.9384 - recall: 0.9201 - auc: 0.9912 - val_loss: 0.3365 - val_accuracy: 0.9271 - val_precision: 0.8806 - val_recall: 0.8194 - val_auc: 0.9803\n",
      "Epoch 118/1000\n",
      "10/10 [==============================] - 10s 1s/step - loss: 0.1748 - accuracy: 0.9686 - precision: 0.9452 - recall: 0.9282 - auc: 0.9945 - val_loss: 0.3521 - val_accuracy: 0.9201 - val_precision: 0.8551 - val_recall: 0.8194 - val_auc: 0.9779\n",
      "Epoch 119/1000\n",
      "10/10 [==============================] - 10s 1s/step - loss: 0.2353 - accuracy: 0.9613 - precision: 0.9302 - recall: 0.9135 - auc: 0.9881 - val_loss: 0.5964 - val_accuracy: 0.9028 - val_precision: 0.8143 - val_recall: 0.7917 - val_auc: 0.9533\n",
      "Epoch 120/1000\n",
      "10/10 [==============================] - 11s 1s/step - loss: 0.2161 - accuracy: 0.9592 - precision: 0.9254 - recall: 0.9103 - auc: 0.9914 - val_loss: 0.3835 - val_accuracy: 0.9375 - val_precision: 0.8971 - val_recall: 0.8472 - val_auc: 0.9753\n",
      "Epoch 121/1000\n",
      "10/10 [==============================] - 10s 1s/step - loss: 0.1710 - accuracy: 0.9698 - precision: 0.9514 - recall: 0.9266 - auc: 0.9947 - val_loss: 0.3189 - val_accuracy: 0.9410 - val_precision: 0.8986 - val_recall: 0.8611 - val_auc: 0.9810\n",
      "Epoch 122/1000\n",
      "10/10 [==============================] - 10s 1s/step - loss: 0.1957 - accuracy: 0.9621 - precision: 0.9319 - recall: 0.9152 - auc: 0.9920 - val_loss: 0.3067 - val_accuracy: 0.9375 - val_precision: 0.8971 - val_recall: 0.8472 - val_auc: 0.9824\n",
      "Epoch 123/1000\n",
      "10/10 [==============================] - 11s 1s/step - loss: 0.2201 - accuracy: 0.9592 - precision: 0.9254 - recall: 0.9103 - auc: 0.9907 - val_loss: 0.2968 - val_accuracy: 0.9375 - val_precision: 0.8750 - val_recall: 0.8750 - val_auc: 0.9836\n",
      "Epoch 124/1000\n",
      "10/10 [==============================] - 10s 1s/step - loss: 0.1735 - accuracy: 0.9657 - precision: 0.9372 - recall: 0.9250 - auc: 0.9941 - val_loss: 0.3432 - val_accuracy: 0.9444 - val_precision: 0.9000 - val_recall: 0.8750 - val_auc: 0.9781\n",
      "Epoch 125/1000\n",
      "10/10 [==============================] - 10s 1s/step - loss: 0.1805 - accuracy: 0.9670 - precision: 0.9419 - recall: 0.9250 - auc: 0.9940 - val_loss: 0.3799 - val_accuracy: 0.9444 - val_precision: 0.9000 - val_recall: 0.8750 - val_auc: 0.9733\n",
      "Epoch 126/1000\n",
      "10/10 [==============================] - 11s 1s/step - loss: 0.2182 - accuracy: 0.9637 - precision: 0.9323 - recall: 0.9217 - auc: 0.9909 - val_loss: 0.3902 - val_accuracy: 0.9028 - val_precision: 0.8143 - val_recall: 0.7917 - val_auc: 0.9730\n",
      "Epoch 127/1000\n",
      "10/10 [==============================] - 10s 970ms/step - loss: 0.1737 - accuracy: 0.9682 - precision: 0.9421 - recall: 0.9299 - auc: 0.9947 - val_loss: 0.3340 - val_accuracy: 0.9271 - val_precision: 0.8806 - val_recall: 0.8194 - val_auc: 0.9794\n",
      "Epoch 128/1000\n",
      "10/10 [==============================] - 10s 984ms/step - loss: 0.1821 - accuracy: 0.9629 - precision: 0.9336 - recall: 0.9168 - auc: 0.9940 - val_loss: 0.6071 - val_accuracy: 0.8924 - val_precision: 0.7971 - val_recall: 0.7639 - val_auc: 0.9530\n",
      "Epoch 129/1000\n",
      "10/10 [==============================] - 11s 1s/step - loss: 0.1569 - accuracy: 0.9735 - precision: 0.9536 - recall: 0.9396 - auc: 0.9947 - val_loss: 0.4893 - val_accuracy: 0.9167 - val_precision: 0.8333 - val_recall: 0.8333 - val_auc: 0.9680\n",
      "Epoch 130/1000\n",
      "10/10 [==============================] - 10s 972ms/step - loss: 0.1676 - accuracy: 0.9653 - precision: 0.9415 - recall: 0.9184 - auc: 0.9942 - val_loss: 0.3725 - val_accuracy: 0.9236 - val_precision: 0.8571 - val_recall: 0.8333 - val_auc: 0.9770\n",
      "Epoch 131/1000\n",
      "10/10 [==============================] - 10s 1s/step - loss: 0.1481 - accuracy: 0.9755 - precision: 0.9570 - recall: 0.9445 - auc: 0.9952 - val_loss: 0.4860 - val_accuracy: 0.9097 - val_precision: 0.8286 - val_recall: 0.8056 - val_auc: 0.9649\n",
      "Epoch 132/1000\n",
      "10/10 [==============================] - 11s 1s/step - loss: 0.2423 - accuracy: 0.9657 - precision: 0.9386 - recall: 0.9233 - auc: 0.9922 - val_loss: 0.4722 - val_accuracy: 0.9028 - val_precision: 0.8143 - val_recall: 0.7917 - val_auc: 0.9660\n",
      "Epoch 133/1000\n",
      "10/10 [==============================] - 10s 1s/step - loss: 0.1637 - accuracy: 0.9690 - precision: 0.9438 - recall: 0.9315 - auc: 0.9951 - val_loss: 0.3889 - val_accuracy: 0.9375 - val_precision: 0.8857 - val_recall: 0.8611 - val_auc: 0.9767\n",
      "Epoch 134/1000\n",
      "10/10 [==============================] - 10s 1s/step - loss: 0.1213 - accuracy: 0.9772 - precision: 0.9619 - recall: 0.9462 - auc: 0.9975 - val_loss: 0.5190 - val_accuracy: 0.9167 - val_precision: 0.8429 - val_recall: 0.8194 - val_auc: 0.9590\n",
      "Epoch 135/1000\n",
      "10/10 [==============================] - 11s 1s/step - loss: 0.1878 - accuracy: 0.9580 - precision: 0.9236 - recall: 0.9070 - auc: 0.9935 - val_loss: 0.5140 - val_accuracy: 0.9097 - val_precision: 0.8194 - val_recall: 0.8194 - val_auc: 0.9605\n",
      "Epoch 136/1000\n",
      "10/10 [==============================] - 10s 1s/step - loss: 0.2017 - accuracy: 0.9604 - precision: 0.9286 - recall: 0.9119 - auc: 0.9916 - val_loss: 0.4934 - val_accuracy: 0.9201 - val_precision: 0.8451 - val_recall: 0.8333 - val_auc: 0.9579\n",
      "Epoch 137/1000\n",
      "10/10 [==============================] - 10s 1s/step - loss: 0.2077 - accuracy: 0.9657 - precision: 0.9416 - recall: 0.9201 - auc: 0.9918 - val_loss: 0.4662 - val_accuracy: 0.9097 - val_precision: 0.8382 - val_recall: 0.7917 - val_auc: 0.9632\n",
      "Epoch 138/1000\n",
      "10/10 [==============================] - 11s 1s/step - loss: 0.1472 - accuracy: 0.9763 - precision: 0.9602 - recall: 0.9445 - auc: 0.9949 - val_loss: 0.4247 - val_accuracy: 0.9132 - val_precision: 0.8406 - val_recall: 0.8056 - val_auc: 0.9703\n",
      "Epoch 139/1000\n",
      "10/10 [==============================] - 10s 1s/step - loss: 0.1851 - accuracy: 0.9690 - precision: 0.9394 - recall: 0.9364 - auc: 0.9932 - val_loss: 0.3623 - val_accuracy: 0.9167 - val_precision: 0.8429 - val_recall: 0.8194 - val_auc: 0.9795\n",
      "Epoch 140/1000\n",
      "10/10 [==============================] - 10s 1s/step - loss: 0.1642 - accuracy: 0.9747 - precision: 0.9569 - recall: 0.9413 - auc: 0.9948 - val_loss: 0.3959 - val_accuracy: 0.9097 - val_precision: 0.8286 - val_recall: 0.8056 - val_auc: 0.9777\n",
      "Epoch 141/1000\n",
      "10/10 [==============================] - 11s 1s/step - loss: 0.1254 - accuracy: 0.9772 - precision: 0.9573 - recall: 0.9511 - auc: 0.9970 - val_loss: 0.5347 - val_accuracy: 0.8993 - val_precision: 0.8028 - val_recall: 0.7917 - val_auc: 0.9586\n",
      "Epoch 142/1000\n",
      "10/10 [==============================] - 10s 1s/step - loss: 0.1621 - accuracy: 0.9682 - precision: 0.9451 - recall: 0.9266 - auc: 0.9945 - val_loss: 0.2972 - val_accuracy: 0.9340 - val_precision: 0.8732 - val_recall: 0.8611 - val_auc: 0.9851\n",
      "Epoch 143/1000\n",
      "10/10 [==============================] - 10s 1s/step - loss: 0.2040 - accuracy: 0.9617 - precision: 0.9289 - recall: 0.9168 - auc: 0.9912 - val_loss: 0.4575 - val_accuracy: 0.8993 - val_precision: 0.8028 - val_recall: 0.7917 - val_auc: 0.9703\n",
      "Epoch 144/1000\n",
      "10/10 [==============================] - 11s 1s/step - loss: 0.1984 - accuracy: 0.9649 - precision: 0.9370 - recall: 0.9217 - auc: 0.9917 - val_loss: 0.4124 - val_accuracy: 0.9340 - val_precision: 0.8732 - val_recall: 0.8611 - val_auc: 0.9731\n",
      "Epoch 145/1000\n",
      "10/10 [==============================] - 10s 1s/step - loss: 0.1664 - accuracy: 0.9702 - precision: 0.9515 - recall: 0.9282 - auc: 0.9950 - val_loss: 0.4108 - val_accuracy: 0.9306 - val_precision: 0.8611 - val_recall: 0.8611 - val_auc: 0.9720\n",
      "Epoch 146/1000\n",
      "10/10 [==============================] - 10s 1s/step - loss: 0.1498 - accuracy: 0.9759 - precision: 0.9556 - recall: 0.9478 - auc: 0.9943 - val_loss: 0.7075 - val_accuracy: 0.8785 - val_precision: 0.7681 - val_recall: 0.7361 - val_auc: 0.9487\n",
      "Epoch 147/1000\n",
      "10/10 [==============================] - 11s 1s/step - loss: 0.1837 - accuracy: 0.9698 - precision: 0.9469 - recall: 0.9315 - auc: 0.9936 - val_loss: 0.4664 - val_accuracy: 0.9236 - val_precision: 0.8676 - val_recall: 0.8194 - val_auc: 0.9678\n",
      "Epoch 148/1000\n",
      "10/10 [==============================] - 10s 1s/step - loss: 0.1713 - accuracy: 0.9678 - precision: 0.9435 - recall: 0.9266 - auc: 0.9944 - val_loss: 0.5012 - val_accuracy: 0.9028 - val_precision: 0.8143 - val_recall: 0.7917 - val_auc: 0.9642\n",
      "Epoch 149/1000\n",
      "10/10 [==============================] - 10s 981ms/step - loss: 0.1807 - accuracy: 0.9633 - precision: 0.9366 - recall: 0.9152 - auc: 0.9942 - val_loss: 0.4734 - val_accuracy: 0.9062 - val_precision: 0.8169 - val_recall: 0.8056 - val_auc: 0.9641\n",
      "Epoch 150/1000\n",
      "10/10 [==============================] - 11s 981ms/step - loss: 0.1906 - accuracy: 0.9678 - precision: 0.9465 - recall: 0.9233 - auc: 0.9917 - val_loss: 0.4328 - val_accuracy: 0.9236 - val_precision: 0.8571 - val_recall: 0.8333 - val_auc: 0.9669\n",
      "Epoch 151/1000\n",
      "10/10 [==============================] - 11s 990ms/step - loss: 0.1552 - accuracy: 0.9739 - precision: 0.9583 - recall: 0.9364 - auc: 0.9953 - val_loss: 0.4992 - val_accuracy: 0.9062 - val_precision: 0.8169 - val_recall: 0.8056 - val_auc: 0.9623\n",
      "Epoch 152/1000\n",
      "10/10 [==============================] - 10s 983ms/step - loss: 0.1468 - accuracy: 0.9727 - precision: 0.9535 - recall: 0.9364 - auc: 0.9946 - val_loss: 0.3922 - val_accuracy: 0.9340 - val_precision: 0.8732 - val_recall: 0.8611 - val_auc: 0.9717\n",
      "Epoch 153/1000\n",
      "10/10 [==============================] - 11s 1s/step - loss: 0.1575 - accuracy: 0.9739 - precision: 0.9567 - recall: 0.9380 - auc: 0.9944 - val_loss: 0.3958 - val_accuracy: 0.9549 - val_precision: 0.9155 - val_recall: 0.9028 - val_auc: 0.9714\n",
      "\n",
      "Reached 95.00% accuracy, so stopping training!!\n"
     ]
    }
   ],
   "source": [
    "history=model.fit(train_dataset,validation_data=valid_dataset,epochs = 1000,callbacks=[callbacks],verbose = 1)"
   ]
  },
  {
   "cell_type": "code",
   "execution_count": 7,
   "id": "34638e85",
   "metadata": {
    "execution": {
     "iopub.execute_input": "2022-03-03T11:17:45.633860Z",
     "iopub.status.busy": "2022-03-03T11:17:45.633079Z",
     "iopub.status.idle": "2022-03-03T11:17:54.822525Z",
     "shell.execute_reply": "2022-03-03T11:17:54.822958Z",
     "shell.execute_reply.started": "2021-11-27T09:45:23.441233Z"
    },
    "papermill": {
     "duration": 9.684658,
     "end_time": "2022-03-03T11:17:54.823108",
     "exception": false,
     "start_time": "2022-03-03T11:17:45.138450",
     "status": "completed"
    },
    "tags": []
   },
   "outputs": [
    {
     "data": {
      "image/png": "[encoded data removed]",
      "text/plain": [
       "<Figure size 432x288 with 1 Axes>"
      ]
     },
     "metadata": {
      "needs_background": "light"
     },
     "output_type": "display_data"
    }
   ],
   "source": [
    "from matplotlib import pyplot as plt\n",
    "plt.plot(history.history['accuracy'])\n",
    "plt.plot(history.history['val_accuracy'])\n",
    "plt.title('model accuracy')\n",
    "plt.ylabel('accuracy')\n",
    "plt.xlabel('epoch')\n",
    "plt.legend(['train', 'val'], loc='upper left')\n",
    "plt.savefig(\"resnet_accuracy.png\")\n",
    "plt.show()\n"
   ]
  },
  {
   "cell_type": "code",
   "execution_count": 8,
   "id": "17692056",
   "metadata": {
    "execution": {
     "iopub.execute_input": "2022-03-03T11:17:55.818058Z",
     "iopub.status.busy": "2022-03-03T11:17:55.817153Z",
     "iopub.status.idle": "2022-03-03T11:17:56.072647Z",
     "shell.execute_reply": "2022-03-03T11:17:56.073050Z",
     "shell.execute_reply.started": "2021-11-27T09:45:33.730038Z"
    },
    "papermill": {
     "duration": 0.761947,
     "end_time": "2022-03-03T11:17:56.073202",
     "exception": false,
     "start_time": "2022-03-03T11:17:55.311255",
     "status": "completed"
    },
    "tags": []
   },
   "outputs": [
    {
     "data": {
      "image/png": "[encoded data removed]",
      "text/plain": [
       "<Figure size 432x288 with 1 Axes>"
      ]
     },
     "metadata": {
      "needs_background": "light"
     },
     "output_type": "display_data"
    }
   ],
   "source": [
    "plt.plot(history.history['loss'])\n",
    "plt.plot(history.history['val_loss'])\n",
    "plt.title('model loss')\n",
    "plt.ylabel('loss')\n",
    "plt.xlabel('epoch')\n",
    "plt.legend(['train', 'val'], loc='upper left')\n",
    "plt.savefig(\"resnet_loss.png\")\n",
    "plt.show()"
   ]
  },
  {
   "cell_type": "code",
   "execution_count": 9,
   "id": "7ded6190",
   "metadata": {
    "execution": {
     "iopub.execute_input": "2022-03-03T11:17:57.061547Z",
     "iopub.status.busy": "2022-03-03T11:17:57.060315Z",
     "iopub.status.idle": "2022-03-03T11:18:00.364640Z",
     "shell.execute_reply": "2022-03-03T11:18:00.365956Z",
     "shell.execute_reply.started": "2021-11-27T09:49:01.746379Z"
    },
    "papermill": {
     "duration": 3.80819,
     "end_time": "2022-03-03T11:18:00.366197",
     "exception": false,
     "start_time": "2022-03-03T11:17:56.558007",
     "status": "completed"
    },
    "tags": []
   },
   "outputs": [
    {
     "name": "stderr",
     "output_type": "stream",
     "text": [
      "/opt/conda/lib/python3.7/site-packages/keras/utils/generic_utils.py:497: CustomMaskWarning: Custom mask layers require a config and must override get_config. When loading, the custom mask layer must be passed to the custom_objects argument.\n",
      "  category=CustomMaskWarning)\n"
     ]
    }
   ],
   "source": [
    "model.save('saved_resnet.h5')"
   ]
  },
  {
   "cell_type": "code",
   "execution_count": null,
   "id": "a22dba69",
   "metadata": {
    "papermill": {
     "duration": 0.490372,
     "end_time": "2022-03-03T11:18:01.402369",
     "exception": false,
     "start_time": "2022-03-03T11:18:00.911997",
     "status": "completed"
    },
    "tags": []
   },
   "outputs": [],
   "source": []
  }
 ],
 "metadata": {
  "kernelspec": {
   "display_name": "Python 3",
   "language": "python",
   "name": "python3"
  },
  "language_info": {
   "codemirror_mode": {
    "name": "ipython",
    "version": 3
   },
   "file_extension": ".py",
   "mimetype": "text/x-python",
   "name": "python",
   "nbconvert_exporter": "python",
   "pygments_lexer": "ipython3",
   "version": "3.7.10"
  },
  "papermill": {
   "default_parameters": {},
   "duration": 1689.277365,
   "end_time": "2022-03-03T11:18:05.440933",
   "environment_variables": {},
   "exception": null,
   "input_path": "__notebook__.ipynb",
   "output_path": "__notebook__.ipynb",
   "parameters": {},
   "start_time": "2022-03-03T10:49:56.163568",
   "version": "2.3.3"
  }
 },
 "nbformat": 4,
 "nbformat_minor": 5
}
